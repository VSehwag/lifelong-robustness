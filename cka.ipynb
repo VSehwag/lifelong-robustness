{
 "cells": [
  {
   "cell_type": "code",
   "execution_count": 1,
   "id": "fb61005d-b773-423f-9ed2-c09d0deb3642",
   "metadata": {},
   "outputs": [],
   "source": [
    "# Some part borrowed from official tutorial https://github.com/pytorch/examples/blob/master/imagenet/main.py\n",
    "from __future__ import print_function\n",
    "from __future__ import absolute_import\n",
    "\n",
    "import os\n",
    "import numpy as np\n",
    "import argparse\n",
    "import importlib\n",
    "import time\n",
    "import logging\n",
    "import warnings\n",
    "from collections import OrderedDict\n",
    "import pdb\n",
    "import importlib\n",
    "\n",
    "import torch\n",
    "import torch.nn as nn\n",
    "from torch.utils.data.dataset import Dataset\n",
    "from torchvision import datasets, transforms\n",
    "from torch.utils.tensorboard import SummaryWriter\n",
    "\n",
    "import models\n",
    "import data\n",
    "import trainers\n",
    "import evaluators\n",
    "import attacks\n",
    "from attack_vectors import get_attack_vector\n",
    "from utils import *\n",
    "\n",
    "import sklearn\n",
    "from sklearn.preprocessing import normalize\n",
    "\n",
    "import CKA"
   ]
  },
  {
   "cell_type": "code",
   "execution_count": 2,
   "id": "a176d6ea-a677-40d4-9dfb-fc94a193da08",
   "metadata": {},
   "outputs": [
    {
     "output_type": "stream",
     "name": "stdout",
     "text": [
      "Files already downloaded and verified\n",
      "Files already downloaded and verified\n"
     ]
    }
   ],
   "source": [
    "cifar = data.cifar10('./datasets', normalize=False)\n",
    "# imagenet = data.imagenet('./datasets/imagenette2', normalize=False)"
   ]
  },
  {
   "cell_type": "code",
   "execution_count": 21,
   "id": "86352826-408c-4ff5-9e64-0f4b651e9b26",
   "metadata": {},
   "outputs": [],
   "source": [
    "device = \"cuda:0\"\n",
    "in_channel = 3\n",
    "num_classes = 10\n",
    "config_path_1 = './configs/configs_cifar0.25.yml'\n",
    "config_path_2 = './configs/configs_cifar0.5.yml'\n",
    "config_path_3 = './configs/configs_cifar1.yml'\n",
    "config_path_4 = './configs/configs_cifar2.yml'\n",
    "# config_path = './configs/configs_imagenet.yml'\n",
    "#ckpt_path = './trained_models/cifar10_WideResNet2810_base/trial_0/checkpoint/checkpoint.pth.tar'\n",
    "imnet_none = './trained_models/imagenette2_ResNet18_trainadv_none/trial0/checkpoint/checkpoint.pth.tar'\n",
    "imnet_linf = './trained_models/imagenette2_ResNet18_trainadv_linf/trial0/checkpoint/checkpoint.pth.tar'"
   ]
  },
  {
   "cell_type": "code",
   "execution_count": 4,
   "metadata": {},
   "outputs": [],
   "source": [
    "cifar_1 = './trained_models/cifar10_ResNet18_l2_0.25/trial_0/checkpoint/checkpoint.pth.tar'\n",
    "cifar_2 = './trained_models/cifar10_ResNet18_l2_0.5/trial_0/checkpoint/checkpoint.pth.tar'\n",
    "cifar_3 = './trained_models/cifar10_ResNet18_l2_1/trial_0/checkpoint/checkpoint.pth.tar'\n",
    "cifar_4 = './trained_models/cifar10_ResNet18_l2_2/trial_0/checkpoint/checkpoint.pth.tar'"
   ]
  },
  {
   "cell_type": "code",
   "execution_count": 5,
   "id": "da769908-9891-4c84-b35a-606c27f46c3e",
   "metadata": {
    "tags": []
   },
   "outputs": [
    {
     "output_type": "execute_result",
     "data": {
      "text/plain": [
       "<All keys matched successfully>"
      ]
     },
     "metadata": {},
     "execution_count": 5
    }
   ],
   "source": [
    "imnet_model_none = torch.nn.DataParallel(models.ResNet18(in_channel=in_channel, num_classes=num_classes)).cuda().eval()\n",
    "ckpt_dict5 = torch.load(imnet_none, map_location=\"cpu\")[\"state_dict\"]\n",
    "imnet_model_none.load_state_dict(ckpt_dict5)\n",
    "\n",
    "imnet_model_linf = torch.nn.DataParallel(models.ResNet18(in_channel=in_channel, num_classes=num_classes)).cuda().eval()\n",
    "ckpt_dict6 = torch.load(imnet_linf, map_location=\"cpu\")[\"state_dict\"]\n",
    "imnet_model_linf.load_state_dict(ckpt_dict6)"
   ]
  },
  {
   "cell_type": "code",
   "execution_count": 7,
   "metadata": {},
   "outputs": [],
   "source": [
    "cifar_models = []\n",
    "for cifar_weights in [cifar_1, cifar_2, cifar_3, cifar_4]:\n",
    "    m = torch.nn.DataParallel(models.ResNet18(in_channel=in_channel, num_classes=num_classes)).cuda().eval()\n",
    "    ckpt_dict = torch.load(cifar_weights, map_location=\"cpu\")[\"state_dict\"]\n",
    "    m.load_state_dict(ckpt_dict)\n",
    "    cifar_models.append(m)"
   ]
  },
  {
   "cell_type": "code",
   "execution_count": 8,
   "id": "a6d3415e-3f68-4775-9d1e-973538b5ece4",
   "metadata": {},
   "outputs": [],
   "source": [
    "def get_images(imgs, test_batch=0):\n",
    "    images = []\n",
    "    # test_batch = 3\n",
    "    for x,y in enumerate(imgs[1]):\n",
    "        images.append(y)\n",
    "    \n",
    "    image_data = None\n",
    "    image_labels = None\n",
    "    for batch in range(len(images)):\n",
    "        if image_data is None:\n",
    "            image_data = images[batch][0]\n",
    "            image_labels = images[batch][1]\n",
    "        else:\n",
    "            image_data = torch.cat((image_data, images[batch][0]), 0)\n",
    "            image_labels = torch.cat((image_labels, images[batch][1]), 0)\n",
    "    image_data = image_data.to(device)\n",
    "    image_labels = image_labels.to(device)\n",
    "    return images, image_data, image_labels"
   ]
  },
  {
   "cell_type": "code",
   "execution_count": 9,
   "id": "005d460d-2ed6-49ce-becd-6069df2480e8",
   "metadata": {},
   "outputs": [
    {
     "output_type": "stream",
     "name": "stdout",
     "text": [
      "torch.Size([10000, 3, 32, 32]) torch.Size([10000])\n"
     ]
    }
   ],
   "source": [
    "test_batch = 2\n",
    "cifar_images, cifar_image_data, cifar_image_labels = get_images(cifar, test_batch)\n",
    "print(cifar_image_data.shape, cifar_image_labels.shape)\n",
    "# imagenet_images, imagenet_image_data, imagenet_image_labels = get_images(imagenet, test_batch)"
   ]
  },
  {
   "cell_type": "code",
   "execution_count": 22,
   "id": "5a4adbe4-fd98-46e7-94dc-1ce6d77cb2cc",
   "metadata": {},
   "outputs": [],
   "source": [
    "with open(config_path_2, 'r') as f:\n",
    "    args_2 = EasyDict(yaml.load(f))\n",
    "\n",
    "with open(config_path_3, 'r') as f:\n",
    "    args_3 = EasyDict(yaml.load(f))"
   ]
  },
  {
   "cell_type": "code",
   "execution_count": 11,
   "metadata": {},
   "outputs": [],
   "source": [
    "# preds_none = imnet_model_none(imagenet_image_data, all=True)\n",
    "# preds_linf = imnet_model_linf(imagenet_image_data, all=True)\n"
   ]
  },
  {
   "cell_type": "code",
   "execution_count": 12,
   "metadata": {},
   "outputs": [],
   "source": [
    "cifar_preds = []\n",
    "num_images = 3000\n",
    "cifar_image_data = cifar_image_data[:num_images]\n",
    "cifar_image_labels = cifar_image_labels[:num_images]\n",
    "for m in cifar_models:\n",
    "    cifar_preds.append(m(cifar_image_data, all=True))"
   ]
  },
  {
   "cell_type": "code",
   "execution_count": 13,
   "metadata": {},
   "outputs": [],
   "source": [
    "# none_activations = preds_none[1]['layer4']['block_1']['conv2'].cpu().detach().numpy()\n",
    "# none_activations = np.reshape(none_activations, (128, 512 * 7 * 7))\n",
    "# linf_activations = preds_linf[1]['layer4']['block_1']['conv2'].cpu().detach().numpy()\n",
    "# linf_activations = np.reshape(linf_activations, (128, 512 * 7 * 7))\n",
    "# print(none_activations.shape)\n",
    "# print(linf_activations.shape)\n",
    "# print(CKA.feature_space_linear_cka(none_activations, linf_activations))"
   ]
  },
  {
   "cell_type": "code",
   "execution_count": 17,
   "metadata": {},
   "outputs": [],
   "source": [
    "cifar_activations = []\n",
    "for pred in cifar_preds:\n",
    "    # print(pred[1]['layer4']['block_3']['conv2'].cpu().detach().numpy().shape)\n",
    "    cifar_activations.append(pred[1]['layer4']['block_1']['conv2'].cpu().detach().numpy().reshape((num_images,512)))"
   ]
  },
  {
   "cell_type": "code",
   "execution_count": 18,
   "metadata": {},
   "outputs": [
    {
     "output_type": "stream",
     "name": "stdout",
     "text": [
      "epsilon = 0.25 vs. epsilon = 0.25\n",
      "0.999999994142055\n",
      "epsilon = 0.25 vs. epsilon = 0.5\n",
      "0.9292922429210101\n",
      "epsilon = 0.25 vs. epsilon = 1\n",
      "0.8637460844082925\n",
      "epsilon = 0.25 vs. epsilon = 2\n",
      "0.8654592429728997\n",
      "\n",
      "epsilon = 0.5 vs. epsilon = 0.25\n",
      "0.9292922429210101\n",
      "epsilon = 0.5 vs. epsilon = 0.5\n",
      "1.0000000253950554\n",
      "epsilon = 0.5 vs. epsilon = 1\n",
      "0.8900220359380772\n",
      "epsilon = 0.5 vs. epsilon = 2\n",
      "0.9073347924873931\n",
      "\n",
      "epsilon = 1 vs. epsilon = 0.25\n",
      "0.8637462404464683\n",
      "epsilon = 1 vs. epsilon = 0.5\n",
      "0.8900223254114628\n",
      "epsilon = 1 vs. epsilon = 1\n",
      "1.0000000416071595\n",
      "epsilon = 1 vs. epsilon = 2\n",
      "0.88171997905948\n",
      "\n",
      "epsilon = 2 vs. epsilon = 0.25\n",
      "0.8654592429728997\n",
      "epsilon = 2 vs. epsilon = 0.5\n",
      "0.9073350981337917\n",
      "epsilon = 2 vs. epsilon = 1\n",
      "0.8817200904770877\n",
      "epsilon = 2 vs. epsilon = 2\n",
      "0.999999877286772\n",
      "\n"
     ]
    }
   ],
   "source": [
    "l = len(cifar_activations)\n",
    "budgets = [0.25, 0.5, 1, 2, 4, 8]\n",
    "for i in range(l):\n",
    "    for j in range(l):\n",
    "        print(f'epsilon = {budgets[i]} vs. epsilon = {budgets[j]}')\n",
    "        print(CKA.feature_space_linear_cka(cifar_activations[i], cifar_activations[j]))\n",
    "    print()"
   ]
  },
  {
   "cell_type": "code",
   "execution_count": 27,
   "metadata": {},
   "outputs": [],
   "source": [
    "attack_2 = get_attack_vector('l2', args_2.EvalAttack)\n",
    "attack_3 = get_attack_vector('l2', args_3.EvalAttack)\n",
    "\n",
    "adv_images_model2_half = attack_2(cifar_models[1], cifar_image_data[:128], cifar_image_labels[:128], torch.ones((128)))\n",
    "adv_images_model2_one = attack_3(cifar_models[1], cifar_image_data[:128], cifar_image_labels[:128], torch.ones((128)))\n",
    "adv_images_model3_half = attack_2(cifar_models[2], cifar_image_data[:128], cifar_image_labels[:128], torch.ones((128)))\n",
    "adv_images_model3_one = attack_3(cifar_models[2], cifar_image_data[:128], cifar_image_labels[:128], torch.ones((128)))"
   ]
  },
  {
   "cell_type": "code",
   "execution_count": 34,
   "metadata": {},
   "outputs": [],
   "source": [
    "adv_preds_2_same = cifar_models[1](adv_images_model2_half[0], all=True)\n",
    "adv_preds_2_diff = cifar_models[1](adv_images_model2_one[0], all=True)\n",
    "adv_preds_3_same = cifar_models[2](adv_images_model3_one[0], all=True)\n",
    "adv_preds_3_diff = cifar_models[2](adv_images_model3_half[0], all=True)"
   ]
  },
  {
   "cell_type": "code",
   "execution_count": 35,
   "metadata": {},
   "outputs": [],
   "source": [
    "adv_acts_2_same = adv_preds_2_same[1]['layer4']['block_1']['conv2'].cpu().detach().numpy().reshape((128,512))\n",
    "adv_acts_2_diff = adv_preds_2_diff[1]['layer4']['block_1']['conv2'].cpu().detach().numpy().reshape((128,512))\n",
    "adv_acts_3_same = adv_preds_3_same[1]['layer4']['block_1']['conv2'].cpu().detach().numpy().reshape((128,512))\n",
    "adv_acts_3_diff = adv_preds_3_diff[1]['layer4']['block_1']['conv2'].cpu().detach().numpy().reshape((128,512))"
   ]
  },
  {
   "cell_type": "code",
   "execution_count": 37,
   "metadata": {},
   "outputs": [
    {
     "output_type": "stream",
     "name": "stdout",
     "text": [
      "0.9993456477606083\n0.7780997776422074\n0.7920795821878492\n0.7721116221825821\n0.9972961360889163\n"
     ]
    }
   ],
   "source": [
    "print(CKA.feature_space_linear_cka(adv_acts_2_same, adv_acts_2_diff))\n",
    "print(CKA.feature_space_linear_cka(adv_acts_2_same, adv_acts_3_same))\n",
    "print(CKA.feature_space_linear_cka(adv_acts_2_same, adv_acts_3_diff))\n",
    "print(CKA.feature_space_linear_cka(adv_acts_2_diff, adv_acts_3_same))\n",
    "print(CKA.feature_space_linear_cka(adv_acts_3_same, adv_acts_3_diff))"
   ]
  },
  {
   "cell_type": "code",
   "execution_count": 87,
   "metadata": {},
   "outputs": [
    {
     "output_type": "stream",
     "name": "stdout",
     "text": [
      "(128, 25088)\n(128, 25088)\n"
     ]
    }
   ],
   "source": [
    "none_activations = preds_none[1]['layer4']['block_1']['conv2'].cpu().detach().numpy()\n",
    "none_activations = np.reshape(none_activations, (128, 512 * 7 * 7))\n",
    "linf_activations = preds_linf[1]['layer4']['block_1']['conv2'].cpu().detach().numpy()\n",
    "linf_activations = np.reshape(linf_activations, (128, 512 * 7 * 7))\n",
    "print(none_activations.shape)\n",
    "print(linf_activations.shape)"
   ]
  },
  {
   "cell_type": "code",
   "execution_count": 68,
   "id": "dd6b6e8d-b5d2-40ea-aef3-43a4f0097f2b",
   "metadata": {},
   "outputs": [],
   "source": [
    "def get_weights(modules, layer, block, conv, fc=False):\n",
    "    weights = []\n",
    "    for i in range(len(modules)):\n",
    "        if fc:\n",
    "            l = modules[i]['fc']._parameters['weight']\n",
    "            l = l.cpu().detach().numpy()\n",
    "            weights.append(l)\n",
    "        elif layer == None:\n",
    "            l = modules[i]['conv1']._parameters['weight']\n",
    "            l = l.cpu().detach().numpy()\n",
    "            s = l.shape\n",
    "            l = np.reshape(l, (s[0], s[1]*s[2]*s[3]))\n",
    "            weights.append(l)\n",
    "        else:\n",
    "            layer_str = 'layer' + str(layer)\n",
    "            conv_str = 'conv' + str(conv)\n",
    "\n",
    "            l = modules[i][layer_str][block]._modules[conv_str]._parameters['weight']\n",
    "            l = l.cpu().detach().numpy()\n",
    "            s = l.shape\n",
    "            l = np.reshape(l, (s[0], s[1]*s[2]*s[3]))\n",
    "            weights.append(l)\n",
    "    return weights"
   ]
  },
  {
   "cell_type": "code",
   "execution_count": 127,
   "id": "cc057aed-683a-4d15-b5b7-a92c410f1fc9",
   "metadata": {},
   "outputs": [],
   "source": [
    "modules_25 = model_25._modules['module']._modules\n",
    "modules_50 = model_50._modules['module']._modules\n",
    "modules_1 = model_1._modules['module']._modules\n",
    "\n",
    "modules_inone = imnet_model_none._modules['module']._modules\n",
    "modules_ilinf = imnet_model_linf._modules['module']._modules"
   ]
  },
  {
   "cell_type": "code",
   "execution_count": 70,
   "id": "fa110783-789d-46bc-9bc5-60bbe40fcbce",
   "metadata": {},
   "outputs": [
    {
     "name": "stdout",
     "output_type": "stream",
     "text": [
      "0.6195292849016635\n",
      "0.6099217159039692\n",
      "0.6115384438608529\n"
     ]
    }
   ],
   "source": [
    "# conv1_weights_25 = modules_25['conv1']._parameters['weight'].cpu().detach().numpy()\n",
    "# conv1_weights_50 = modules_50['conv1']._parameters['weight'].cpu().detach().numpy()\n",
    "# conv1_weights_1 = modules_1['conv1']._parameters['weight'].cpu().detach().numpy()\n",
    "\n",
    "weights = get_weights([modules_25, modules_50, modules_1],1,0,1)\n",
    "\n",
    "print(CKA.feature_space_linear_cka(weights[0], weights[1]))\n",
    "print(CKA.feature_space_linear_cka(weights[0], weights[2]))\n",
    "print(CKA.feature_space_linear_cka(weights[1], weights[2]))"
   ]
  },
  {
   "cell_type": "code",
   "execution_count": 133,
   "id": "f971402b-fecb-4b5a-8c68-6c91e5b9d5dd",
   "metadata": {},
   "outputs": [
    {
     "name": "stdout",
     "output_type": "stream",
     "text": [
      "layer 1\n",
      "0.74785792877443\n",
      "0.8233991846664098\n",
      "0.8815940340562435\n",
      "0.8792076811292502\n",
      "layer 2\n",
      "0.7602707175000024\n",
      "0.8946797362851782\n",
      "0.9139066170873291\n",
      "0.9307238326557361\n",
      "layer 3\n",
      "0.8500657874626262\n",
      "0.9297465877018318\n",
      "0.9609051733070965\n",
      "0.9565875121485815\n",
      "layer 4\n",
      "0.9091852042100456\n",
      "0.8958898495991707\n",
      "0.8753909740710719\n",
      "0.9028414549346199\n"
     ]
    }
   ],
   "source": [
    "for i in range(1,5):\n",
    "    print('layer',i)\n",
    "    for j in range(2):\n",
    "        for k in range(1,3):\n",
    "            weights = get_weights([modules_inone, modules_ilinf],i,j,k)\n",
    "            print(CKA.feature_space_linear_cka(weights[0], weights[1]))"
   ]
  },
  {
   "cell_type": "code",
   "execution_count": 71,
   "id": "6c45a5bf-85dd-4502-aede-72033d04c3d6",
   "metadata": {},
   "outputs": [
    {
     "data": {
      "text/plain": [
       "0.9956780355854683"
      ]
     },
     "execution_count": 71,
     "metadata": {},
     "output_type": "execute_result"
    }
   ],
   "source": [
    "fc_weights = model._modules['module']._modules['fc']._parameters['weight'].cpu().detach().numpy()\n",
    "fc_weights2 = model2._modules['module']._modules['fc']._parameters['weight'].cpu().detach().numpy()\n",
    "\n",
    "# TODO: normalize the weights\n",
    "# fc_weights = normalize(fc_weights)\n",
    "# fc_weights2 = normalize(fc_weights2)\n",
    "CKA.feature_space_linear_cka(fc_weights, fc_weights2)"
   ]
  },
  {
   "cell_type": "code",
   "execution_count": null,
   "id": "117067c3-2d8e-48fd-a745-0c8df9350609",
   "metadata": {},
   "outputs": [],
   "source": [
    "def generate_heatmap(module1, module2):\n",
    "    "
   ]
  },
  {
   "cell_type": "code",
   "execution_count": 8,
   "id": "86ff5280-5fda-442d-add5-d49db67c526c",
   "metadata": {},
   "outputs": [
    {
     "data": {
      "image/png": "[encoded data removed]",
      "text/plain": [
       "<Figure size 1332x756 with 6 Axes>"
      ]
     },
     "metadata": {
      "needs_background": "light"
     },
     "output_type": "display_data"
    }
   ],
   "source": [
    "image = 1\n",
    "attacks = ['linf','l2','snow','jpeg','gabor']\n",
    "preds = model(image_data)\n",
    "target = image_labels\n",
    "acc = accuracy(preds, target, topk=(1,5))\n",
    "f, axarr = plt.subplots(2,3)\n",
    "f.set_size_inches(18.5, 10.5)\n",
    "axarr[0][0].imshow(images[test_batch][0][image].transpose(0,1).transpose(1,2))\n",
    "axarr[0][0].title.set_text('base (acc = ' + str(float(acc[0])) + ')')\n",
    "\n",
    "for i in range(len(attacks)):\n",
    "    attack = get_attack_vector(attacks[i], args.EvalAttack)\n",
    "\n",
    "    adv_images = attack(model, image_data, image_labels, torch.ones_like(image_labels))\n",
    "\n",
    "    adv_preds = model(adv_images[0])\n",
    "\n",
    "    acc = accuracy(adv_preds, target, topk=(1,5))\n",
    "    \n",
    "    axarr[(i+1) // 3][(i+1) % 3].imshow(adv_images[0][image].transpose(0,1).transpose(1,2).cpu().detach())\n",
    "    axarr[(i+1) // 3][(i+1) % 3].title.set_text(attacks[i] + ' (acc = ' + str(float(acc[0])) + ')')"
   ]
  },
  {
   "cell_type": "code",
   "execution_count": null,
   "id": "32afa10a-a0ac-4d5f-970c-c122f7d8edf1",
   "metadata": {},
   "outputs": [],
   "source": []
  }
 ],
 "metadata": {
  "kernelspec": {
   "name": "python3",
   "display_name": "Python 3.6.9 64-bit ('robust': venv)"
  },
  "language_info": {
   "codemirror_mode": {
    "name": "ipython",
    "version": 3
   },
   "file_extension": ".py",
   "mimetype": "text/x-python",
   "name": "python",
   "nbconvert_exporter": "python",
   "pygments_lexer": "ipython3",
   "version": "3.6.9"
  },
  "interpreter": {
   "hash": "2e48ce439cdbf34fa35382eb8a8ab4cee9e9c5221398d4c16d774cbf8945950e"
  }
 },
 "nbformat": 4,
 "nbformat_minor": 5
}